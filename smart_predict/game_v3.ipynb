{
 "cells": [
  {
   "cell_type": "code",
   "execution_count": 1,
   "metadata": {},
   "outputs": [
    {
     "name": "stdout",
     "output_type": "stream",
     "text": [
      "Ваш алгоритм угадывает число в среднем за:7 попыток\n"
     ]
    }
   ],
   "source": [
    "\"\"\"Игра угадай число\n",
    "Компьютер сам загадывает и сам угадывает число\n",
    "\"\"\"\n",
    "\n",
    "import numpy as np\n",
    "\n",
    "\n",
    "def smart_predict(number: int = 1) -> int:\n",
    "    \"\"\"Функция угадывает число, учитывая, что на каждой итерации нам известно:\n",
    "    больше либо меньше загаданное число, чем наше преполагаемое\n",
    "    В каждой итерации уменьшаем диапазон гадания, в зависимости от того,\n",
    "    меньше загаданное число, либо больше.\n",
    "    Args:\n",
    "        number (int, optional): Загаданное число. Defaults to 1.\n",
    "    Returns:\n",
    "        int: Число попыток\n",
    "    \"\"\"\n",
    "    count = 0  # счетчик попыток\n",
    "    upper_bound = 100  # верхняя граница диапазона \"гадания\"\n",
    "    lower_bound = 0  # нижняя граница диапазона \"гадания\"\n",
    "    while True:\n",
    "        count += 1\n",
    "        predict_number = np.random.randint(lower_bound, upper_bound+1)\n",
    "        if number == predict_number:\n",
    "            break\n",
    "        elif number < predict_number:\n",
    "            upper_bound = predict_number-1\n",
    "        elif number > predict_number:\n",
    "            lower_bound = predict_number+1\n",
    "    return count\n",
    "\n",
    "\n",
    "def score_game(predict_func) -> int:\n",
    "    \"\"\"За какое количство попыток в среднем за 1000 подходов угадывает наш алгоритм\n",
    "    Args:\n",
    "        predict_func ([type]): функция угадывания\n",
    "    Returns:\n",
    "        int: среднее количество попыток\n",
    "    \"\"\"\n",
    "    count_ls = []\n",
    "    random_array = np.random.randint(1, 101, size=(1000))  # загадали числа\n",
    "\n",
    "    for number in random_array:\n",
    "        count_ls.append(predict_func(number))\n",
    "\n",
    "    score = int(np.mean(count_ls))\n",
    "    print(f\"Ваш алгоритм угадывает число в среднем за:{score} попыток\")\n",
    "    return score\n",
    "\n",
    "\n",
    "if __name__ == \"__main__\":\n",
    "    # RUN\n",
    "    score_game(smart_predict)\n"
   ]
  }
 ],
 "metadata": {
  "interpreter": {
   "hash": "a1ac95b630ff19a5d2a3b35c6af1e3986c80062a8d6439f9f07650a3e8045b34"
  },
  "kernelspec": {
   "display_name": "Python 3.10.2 ('sklearn-env')",
   "language": "python",
   "name": "python3"
  },
  "language_info": {
   "codemirror_mode": {
    "name": "ipython",
    "version": 3
   },
   "file_extension": ".py",
   "mimetype": "text/x-python",
   "name": "python",
   "nbconvert_exporter": "python",
   "pygments_lexer": "ipython3",
   "version": "3.10.2"
  },
  "orig_nbformat": 4
 },
 "nbformat": 4,
 "nbformat_minor": 2
}
