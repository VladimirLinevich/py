{
 "cells": [
  {
   "cell_type": "code",
   "execution_count": 31,
   "metadata": {},
   "outputs": [
    {
     "name": "stdout",
     "output_type": "stream",
     "text": [
      "<class 'pandas.core.frame.DataFrame'>\n",
      "RangeIndex: 300000 entries, 0 to 299999\n",
      "Data columns (total 14 columns):\n",
      " #   Column                   Non-Null Count   Dtype  \n",
      "---  ------                   --------------   -----  \n",
      " 0   starttime                300000 non-null  object \n",
      " 1   stoptime                 300000 non-null  object \n",
      " 2   start station id         299831 non-null  float64\n",
      " 3   start station name       299831 non-null  object \n",
      " 4   start station latitude   300000 non-null  float64\n",
      " 5   start station longitude  300000 non-null  float64\n",
      " 6   end station id           299831 non-null  float64\n",
      " 7   end station name         299831 non-null  object \n",
      " 8   end station latitude     300000 non-null  float64\n",
      " 9   end station longitude    300000 non-null  float64\n",
      " 10  bikeid                   300000 non-null  int64  \n",
      " 11  usertype                 300000 non-null  object \n",
      " 12  birth year               300000 non-null  int64  \n",
      " 13  gender                   300000 non-null  int64  \n",
      "dtypes: float64(6), int64(3), object(5)\n",
      "memory usage: 32.0+ MB\n"
     ]
    },
    {
     "data": {
      "text/plain": [
       "None"
      ]
     },
     "metadata": {},
     "output_type": "display_data"
    },
    {
     "data": {
      "text/plain": [
       "1126"
      ]
     },
     "metadata": {},
     "output_type": "display_data"
    },
    {
     "data": {
      "text/plain": [
       "day        143012\n",
       "morning     95530\n",
       "evening     46373\n",
       "night       15085\n",
       "Name: time of day, dtype: int64"
      ]
     },
     "metadata": {},
     "output_type": "display_data"
    }
   ],
   "source": [
    "import pandas as pd\n",
    "bike_data = pd.read_csv('data/citibike-tripdata.csv', sep=',')\n",
    "display(bike_data.info())\n",
    "bike_data['stoptime'] = pd.to_datetime(bike_data['stoptime'])\n",
    "bike_data['starttime'] = pd.to_datetime(bike_data['starttime'])\n",
    "bike_data['age'] = 2018 - bike_data['birth year']\n",
    "#display(bike_data['age'].value_counts(),bike_data['age'].min())\n",
    "#display(len(bike_data[bike_data['age'] > 60]))\n",
    "bike_data['trip duration'] = bike_data['stoptime'] - bike_data['starttime']\n",
    "display(bike_data['trip duration'].mean().seconds)\n",
    "\n",
    "def get_weekend(weekday):\n",
    "    if weekday.hour >= 0 and weekday.hour <= 6:\n",
    "        return 'night'\n",
    "    elif weekday.hour > 6 and weekday.hour <= 12:\n",
    "        return 'morning'\n",
    "    elif weekday.hour > 12 and weekday.hour <= 18:\n",
    "        return 'day'\n",
    "    elif weekday.hour > 18 and weekday.hour <= 23:\n",
    "        return 'evening'\n",
    "\n",
    "bike_data['time of day'] = bike_data['starttime'].apply(get_weekend)\n",
    "display (bike_data['time of day'].value_counts())"
   ]
  },
  {
   "cell_type": "code",
   "execution_count": 26,
   "metadata": {},
   "outputs": [
    {
     "name": "stdout",
     "output_type": "stream",
     "text": [
      "<class 'pandas.core.frame.DataFrame'>\n",
      "RangeIndex: 300000 entries, 0 to 299999\n",
      "Data columns (total 14 columns):\n",
      " #   Column                   Non-Null Count   Dtype  \n",
      "---  ------                   --------------   -----  \n",
      " 0   starttime                300000 non-null  object \n",
      " 1   stoptime                 300000 non-null  object \n",
      " 2   start station id         299831 non-null  float64\n",
      " 3   start station name       299831 non-null  object \n",
      " 4   start station latitude   300000 non-null  float64\n",
      " 5   start station longitude  300000 non-null  float64\n",
      " 6   end station id           299831 non-null  float64\n",
      " 7   end station name         299831 non-null  object \n",
      " 8   end station latitude     300000 non-null  float64\n",
      " 9   end station longitude    300000 non-null  float64\n",
      " 10  bikeid                   300000 non-null  int64  \n",
      " 11  usertype                 300000 non-null  object \n",
      " 12  birth year               300000 non-null  int64  \n",
      " 13  gender                   300000 non-null  int64  \n",
      "dtypes: float64(6), int64(3), object(5)\n",
      "memory usage: 32.0+ MB\n"
     ]
    },
    {
     "data": {
      "text/plain": [
       "None"
      ]
     },
     "metadata": {},
     "output_type": "display_data"
    },
    {
     "data": {
      "text/plain": [
       "1126"
      ]
     },
     "metadata": {},
     "output_type": "display_data"
    },
    {
     "data": {
      "text/plain": [
       "0    184865\n",
       "1    115135\n",
       "Name: weekend, dtype: int64"
      ]
     },
     "metadata": {},
     "output_type": "display_data"
    }
   ],
   "source": [
    "import pandas as pd\n",
    "bike_data = pd.read_csv('data/citibike-tripdata.csv', sep=',')\n",
    "display(bike_data.info())\n",
    "bike_data['stoptime'] = pd.to_datetime(bike_data['stoptime'])\n",
    "bike_data['starttime'] = pd.to_datetime(bike_data['starttime'])\n",
    "bike_data['age'] = 2018 - bike_data['birth year']\n",
    "#display(bike_data['age'].value_counts(),bike_data['age'].min())\n",
    "#display(len(bike_data[bike_data['age'] > 60]))\n",
    "bike_data['trip duration'] = bike_data['stoptime'] - bike_data['starttime']\n",
    "display(bike_data['trip duration'].mean().seconds)\n",
    "\n",
    "def get_weekend(weekday):\n",
    "    if weekday.dayofweek == 5 or weekday.dayofweek == 6:\n",
    "        return 1\n",
    "    return 0\n",
    "\n",
    "bike_data['weekend'] = bike_data['starttime'].apply(get_weekend)\n",
    "display (bike_data['weekend'].value_counts())"
   ]
  }
 ],
 "metadata": {
  "interpreter": {
   "hash": "a1ac95b630ff19a5d2a3b35c6af1e3986c80062a8d6439f9f07650a3e8045b34"
  },
  "kernelspec": {
   "display_name": "Python 3.10.2 ('sklearn-env')",
   "language": "python",
   "name": "python3"
  },
  "language_info": {
   "codemirror_mode": {
    "name": "ipython",
    "version": 3
   },
   "file_extension": ".py",
   "mimetype": "text/x-python",
   "name": "python",
   "nbconvert_exporter": "python",
   "pygments_lexer": "ipython3",
   "version": "3.10.2"
  },
  "orig_nbformat": 4
 },
 "nbformat": 4,
 "nbformat_minor": 2
}
