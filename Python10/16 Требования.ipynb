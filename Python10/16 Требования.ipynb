{
 "cells": [
  {
   "cell_type": "code",
   "execution_count": null,
   "metadata": {},
   "outputs": [],
   "source": []
  },
  {
   "cell_type": "markdown",
   "metadata": {},
   "source": [
    "Решение оформляется только в Jupyter Notebook.\n",
    "Решение оформляется в соответствии с ноутбуком-шаблоном.\n",
    "\n",
    "Каждое задание выполняется в отдельной ячейке, выделенной под задание (в шаблоне они помечены как ваш код здесь). Не следует создавать множество ячеек для решения задачи — это создаёт неудобства при проверке.\n",
    "\n",
    "Код для каждого задания оформляется в одной-двух jupyter-ячейках (не стоит создавать множество ячеек для решения задачи, это усложняет проверку).\n",
    "\n",
    "Решение должно использовать только пройденный материал: переменные, основные структуры данных (списки, словари, множества), циклы, функции, библиотеки numpy, pandas, matplotlib, seaborn, plotly. Если вы думаете, что для решения необходимо воспользоваться сторонними библиотеками или инструментами (например Excel), другими языками программирования или неизученными конструкциями, вы ошибаетесь :) Все задания решаются с помощью уже знакомых методов.\n",
    "\n",
    "Код должен быть читаемым и понятным: имена переменных и функций отражают их сущность, важно избегать многострочных конструкций и условий.\n",
    "\n",
    "Пользуйтесь руководством PEP 8.\n",
    "\n",
    "Графики оформляются в соответствии с теми правилами, которые мы приводили в модуле по визуализации данных.\n",
    "\n",
    "Обязательное требование: графики должны содержать название, отражающее их суть, и подписи осей.\n",
    "\n",
    "Выводы к графикам оформляются в формате Markdown под самим графиком в отдельной ячейке (в шаблоне они помечены как ваши выводы здесь). Выводы должны быть представлены в виде небольших связанных предложений на русском языке."
   ]
  },
  {
   "cell_type": "code",
   "execution_count": 7,
   "metadata": {},
   "outputs": [
    {
     "name": "stdout",
     "output_type": "stream",
     "text": [
      "(44744, 12)\n"
     ]
    }
   ],
   "source": [
    "import pandas as pd\n",
    "import numpy as np\n",
    "import matplotlib.pyplot as plt\n",
    "import seaborn as sns\n",
    "import plotly.express as px\n",
    "hh_data = pd.read_csv('data/dst-3.0_16_1_hh_database.csv',sep=';')\n",
    "hh_data.head()\n",
    "print(hh_data.shape)"
   ]
  },
  {
   "cell_type": "code",
   "execution_count": 2,
   "metadata": {},
   "outputs": [
    {
     "name": "stdout",
     "output_type": "stream",
     "text": [
      "<class 'pandas.core.frame.DataFrame'>\n",
      "RangeIndex: 44744 entries, 0 to 44743\n",
      "Data columns (total 12 columns):\n",
      " #   Column                           Non-Null Count  Dtype \n",
      "---  ------                           --------------  ----- \n",
      " 0   Пол, возраст                     44744 non-null  object\n",
      " 1   ЗП                               44744 non-null  object\n",
      " 2   Ищет работу на должность:        44744 non-null  object\n",
      " 3   Город, переезд, командировки     44744 non-null  object\n",
      " 4   Занятость                        44744 non-null  object\n",
      " 5   График                           44744 non-null  object\n",
      " 6   Опыт работы                      44576 non-null  object\n",
      " 7   Последнее/нынешнее место работы  44743 non-null  object\n",
      " 8   Последняя/нынешняя должность     44742 non-null  object\n",
      " 9   Образование и ВУЗ                44744 non-null  object\n",
      " 10  Обновление резюме                44744 non-null  object\n",
      " 11  Авто                             44744 non-null  object\n",
      "dtypes: object(12)\n",
      "memory usage: 4.1+ MB\n"
     ]
    }
   ],
   "source": [
    "hh_data.info()"
   ]
  },
  {
   "cell_type": "code",
   "execution_count": 5,
   "metadata": {},
   "outputs": [
    {
     "name": "stdout",
     "output_type": "stream",
     "text": [
      "Системный администратор                                                  3099\n",
      "Инженер                                                                   966\n",
      "Аналитик                                                                  809\n",
      "Менеджер проектов                                                         745\n",
      "Руководитель проекта                                                      718\n",
      "                                                                         ... \n",
      "Системный администратор Linux, DevOps, Разработчик Golang                   1\n",
      "Инженер КИПиА,инженер АСУТП ,видеоинженер                                   1\n",
      "SEO-специалист | Специалист по интернет-рекламе | Интернет-маркетолог       1\n",
      "Специалист технических систем безопастности                                 1\n",
      "Аналитик данных, Математик                                                  1\n",
      "Name: Ищет работу на должность:, Length: 14929, dtype: int64\n"
     ]
    }
   ],
   "source": [
    "hh_data['Опыт работы'].nunique()\n",
    "#hh_data['Опыт работы'].value_counts()\n",
    "print(hh_data['Ищет работу на должность:'].value_counts())\n"
   ]
  },
  {
   "cell_type": "code",
   "execution_count": 8,
   "metadata": {},
   "outputs": [
    {
     "data": {
      "text/plain": [
       "высшее                 33863\n",
       "среднее специальное     5765\n",
       "неоконченное высшее     4557\n",
       "среднее                  559\n",
       "Name: Образование, dtype: int64"
      ]
     },
     "execution_count": 8,
     "metadata": {},
     "output_type": "execute_result"
    }
   ],
   "source": [
    "def get_edu_level(st:str):\n",
    "    st = ' '.join(st.split(' ')[:3]).lower()\n",
    "    if 'неоконченное высшее' in  st or 'высшее неоконченное' in st:\n",
    "        return 'неоконченное высшее'\n",
    "    elif 'высшее' in st:\n",
    "        return 'высшее'\n",
    "    elif 'среднее специальное' in st or 'средне-специальное' in st:\n",
    "        return 'среднее специальное'\n",
    "    elif 'среднее образование' in st:\n",
    "        return 'среднее'\n",
    "    return np.nan\n",
    "\n",
    "hh_data['Образование'] = hh_data['Образование и ВУЗ'].apply(get_edu_level)\n",
    "#display(hh_data[hh_data['Образование'] == 'среднее специальное'].tail(50))\n",
    "hh_data['Образование'].value_counts()"
   ]
  },
  {
   "cell_type": "code",
   "execution_count": 9,
   "metadata": {},
   "outputs": [
    {
     "name": "stdout",
     "output_type": "stream",
     "text": [
      "высшее                 33863\n",
      "среднее специальное     5765\n",
      "неоконченное высшее     4557\n",
      "среднее                  559\n",
      "Name: Образование, dtype: int64\n"
     ]
    }
   ],
   "source": [
    "def get_education(arg):\n",
    "    arg = ' '.join(arg.split(' ')[:3])\n",
    "    if 'Высшее' in arg:\n",
    "        return 'высшее'\n",
    "    elif 'Неоконченное высшее' in arg:\n",
    "        return 'неоконченное высшее'\n",
    "    elif 'Среднее специальное' in arg:\n",
    "        return 'среднее специальное'\n",
    "    elif 'Среднее образование' in arg:\n",
    "        return 'среднее'\n",
    "\n",
    "hh_data['Образование'] = hh_data['Образование и ВУЗ'].apply(get_education)\n",
    "hh_data = hh_data.drop(columns = 'Образование и ВУЗ',axis=1)\n",
    "print(hh_data['Образование'].value_counts())"
   ]
  },
  {
   "cell_type": "code",
   "execution_count": 10,
   "metadata": {},
   "outputs": [
    {
     "name": "stdout",
     "output_type": "stream",
     "text": [
      "<class 'pandas.core.frame.DataFrame'>\n",
      "RangeIndex: 44744 entries, 0 to 44743\n",
      "Data columns (total 13 columns):\n",
      " #   Column                           Non-Null Count  Dtype \n",
      "---  ------                           --------------  ----- \n",
      " 0   Пол, возраст                     44744 non-null  object\n",
      " 1   ЗП                               44744 non-null  object\n",
      " 2   Ищет работу на должность:        44744 non-null  object\n",
      " 3   Город, переезд, командировки     44744 non-null  object\n",
      " 4   Занятость                        44744 non-null  object\n",
      " 5   График                           44744 non-null  object\n",
      " 6   Опыт работы                      44576 non-null  object\n",
      " 7   Последнее/нынешнее место работы  44743 non-null  object\n",
      " 8   Последняя/нынешняя должность     44742 non-null  object\n",
      " 9   Обновление резюме                44744 non-null  object\n",
      " 10  Авто                             44744 non-null  object\n",
      " 11  Образование                      44744 non-null  object\n",
      " 12  error                            44744 non-null  bool  \n",
      "dtypes: bool(1), object(12)\n",
      "memory usage: 4.1+ MB\n"
     ]
    },
    {
     "data": {
      "text/plain": [
       "None"
      ]
     },
     "metadata": {},
     "output_type": "display_data"
    },
    {
     "ename": "KeyError",
     "evalue": "'Образование и ВУЗ'",
     "output_type": "error",
     "traceback": [
      "\u001b[1;31m---------------------------------------------------------------------------\u001b[0m",
      "\u001b[1;31mKeyError\u001b[0m                                  Traceback (most recent call last)",
      "\u001b[1;32mc:\\ProgramData\\Miniconda3\\lib\\site-packages\\pandas\\core\\indexes\\base.py\u001b[0m in \u001b[0;36mget_loc\u001b[1;34m(self, key, method, tolerance)\u001b[0m\n\u001b[0;32m   3620\u001b[0m             \u001b[1;32mtry\u001b[0m\u001b[1;33m:\u001b[0m\u001b[1;33m\u001b[0m\u001b[1;33m\u001b[0m\u001b[0m\n\u001b[1;32m-> 3621\u001b[1;33m                 \u001b[1;32mreturn\u001b[0m \u001b[0mself\u001b[0m\u001b[1;33m.\u001b[0m\u001b[0m_engine\u001b[0m\u001b[1;33m.\u001b[0m\u001b[0mget_loc\u001b[0m\u001b[1;33m(\u001b[0m\u001b[0mcasted_key\u001b[0m\u001b[1;33m)\u001b[0m\u001b[1;33m\u001b[0m\u001b[1;33m\u001b[0m\u001b[0m\n\u001b[0m\u001b[0;32m   3622\u001b[0m             \u001b[1;32mexcept\u001b[0m \u001b[0mKeyError\u001b[0m \u001b[1;32mas\u001b[0m \u001b[0merr\u001b[0m\u001b[1;33m:\u001b[0m\u001b[1;33m\u001b[0m\u001b[1;33m\u001b[0m\u001b[0m\n",
      "\u001b[1;32mc:\\ProgramData\\Miniconda3\\lib\\site-packages\\pandas\\_libs\\index.pyx\u001b[0m in \u001b[0;36mpandas._libs.index.IndexEngine.get_loc\u001b[1;34m()\u001b[0m\n",
      "\u001b[1;32mc:\\ProgramData\\Miniconda3\\lib\\site-packages\\pandas\\_libs\\index.pyx\u001b[0m in \u001b[0;36mpandas._libs.index.IndexEngine.get_loc\u001b[1;34m()\u001b[0m\n",
      "\u001b[1;32mpandas\\_libs\\hashtable_class_helper.pxi\u001b[0m in \u001b[0;36mpandas._libs.hashtable.PyObjectHashTable.get_item\u001b[1;34m()\u001b[0m\n",
      "\u001b[1;32mpandas\\_libs\\hashtable_class_helper.pxi\u001b[0m in \u001b[0;36mpandas._libs.hashtable.PyObjectHashTable.get_item\u001b[1;34m()\u001b[0m\n",
      "\u001b[1;31mKeyError\u001b[0m: 'Образование и ВУЗ'",
      "\nThe above exception was the direct cause of the following exception:\n",
      "\u001b[1;31mKeyError\u001b[0m                                  Traceback (most recent call last)",
      "\u001b[1;32m~\\AppData\\Local\\Temp\\ipykernel_952\\948695365.py\u001b[0m in \u001b[0;36m<cell line: 4>\u001b[1;34m()\u001b[0m\n\u001b[0;32m      5\u001b[0m     \"\"\"print (get_education(hh_data.loc[i]['Образование и ВУЗ']) != edu_level_clean(hh_data.loc[i]['Образование и ВУЗ']))\n\u001b[0;32m      6\u001b[0m     input()\"\"\"\n\u001b[1;32m----> 7\u001b[1;33m     \u001b[1;32mif\u001b[0m \u001b[1;33m(\u001b[0m\u001b[0mget_education\u001b[0m\u001b[1;33m(\u001b[0m\u001b[0mhh_data\u001b[0m\u001b[1;33m.\u001b[0m\u001b[0mloc\u001b[0m\u001b[1;33m[\u001b[0m\u001b[0mi\u001b[0m\u001b[1;33m]\u001b[0m\u001b[1;33m[\u001b[0m\u001b[1;34m'Образование и ВУЗ'\u001b[0m\u001b[1;33m]\u001b[0m\u001b[1;33m)\u001b[0m \u001b[1;33m!=\u001b[0m \u001b[0medu_level_clean\u001b[0m\u001b[1;33m(\u001b[0m\u001b[0mhh_data\u001b[0m\u001b[1;33m.\u001b[0m\u001b[0mloc\u001b[0m\u001b[1;33m[\u001b[0m\u001b[0mi\u001b[0m\u001b[1;33m]\u001b[0m\u001b[1;33m[\u001b[0m\u001b[1;34m'Образование и ВУЗ'\u001b[0m\u001b[1;33m]\u001b[0m\u001b[1;33m)\u001b[0m\u001b[1;33m)\u001b[0m\u001b[1;33m:\u001b[0m\u001b[1;33m\u001b[0m\u001b[1;33m\u001b[0m\u001b[0m\n\u001b[0m\u001b[0;32m      8\u001b[0m         \u001b[0merror_data\u001b[0m\u001b[1;33m.\u001b[0m\u001b[0mloc\u001b[0m\u001b[1;33m[\u001b[0m\u001b[0mi\u001b[0m\u001b[1;33m,\u001b[0m\u001b[1;34m'error'\u001b[0m\u001b[1;33m]\u001b[0m \u001b[1;33m=\u001b[0m \u001b[1;32mTrue\u001b[0m\u001b[1;33m\u001b[0m\u001b[1;33m\u001b[0m\u001b[0m\n\u001b[0;32m      9\u001b[0m \u001b[0merror_data\u001b[0m\u001b[1;33m.\u001b[0m\u001b[0minfo\u001b[0m\u001b[1;33m(\u001b[0m\u001b[1;33m)\u001b[0m\u001b[1;33m\u001b[0m\u001b[1;33m\u001b[0m\u001b[0m\n",
      "\u001b[1;32mc:\\ProgramData\\Miniconda3\\lib\\site-packages\\pandas\\core\\series.py\u001b[0m in \u001b[0;36m__getitem__\u001b[1;34m(self, key)\u001b[0m\n\u001b[0;32m    956\u001b[0m \u001b[1;33m\u001b[0m\u001b[0m\n\u001b[0;32m    957\u001b[0m         \u001b[1;32melif\u001b[0m \u001b[0mkey_is_scalar\u001b[0m\u001b[1;33m:\u001b[0m\u001b[1;33m\u001b[0m\u001b[1;33m\u001b[0m\u001b[0m\n\u001b[1;32m--> 958\u001b[1;33m             \u001b[1;32mreturn\u001b[0m \u001b[0mself\u001b[0m\u001b[1;33m.\u001b[0m\u001b[0m_get_value\u001b[0m\u001b[1;33m(\u001b[0m\u001b[0mkey\u001b[0m\u001b[1;33m)\u001b[0m\u001b[1;33m\u001b[0m\u001b[1;33m\u001b[0m\u001b[0m\n\u001b[0m\u001b[0;32m    959\u001b[0m \u001b[1;33m\u001b[0m\u001b[0m\n\u001b[0;32m    960\u001b[0m         \u001b[1;32mif\u001b[0m \u001b[0mis_hashable\u001b[0m\u001b[1;33m(\u001b[0m\u001b[0mkey\u001b[0m\u001b[1;33m)\u001b[0m\u001b[1;33m:\u001b[0m\u001b[1;33m\u001b[0m\u001b[1;33m\u001b[0m\u001b[0m\n",
      "\u001b[1;32mc:\\ProgramData\\Miniconda3\\lib\\site-packages\\pandas\\core\\series.py\u001b[0m in \u001b[0;36m_get_value\u001b[1;34m(self, label, takeable)\u001b[0m\n\u001b[0;32m   1067\u001b[0m \u001b[1;33m\u001b[0m\u001b[0m\n\u001b[0;32m   1068\u001b[0m         \u001b[1;31m# Similar to Index.get_value, but we do not fall back to positional\u001b[0m\u001b[1;33m\u001b[0m\u001b[1;33m\u001b[0m\u001b[0m\n\u001b[1;32m-> 1069\u001b[1;33m         \u001b[0mloc\u001b[0m \u001b[1;33m=\u001b[0m \u001b[0mself\u001b[0m\u001b[1;33m.\u001b[0m\u001b[0mindex\u001b[0m\u001b[1;33m.\u001b[0m\u001b[0mget_loc\u001b[0m\u001b[1;33m(\u001b[0m\u001b[0mlabel\u001b[0m\u001b[1;33m)\u001b[0m\u001b[1;33m\u001b[0m\u001b[1;33m\u001b[0m\u001b[0m\n\u001b[0m\u001b[0;32m   1070\u001b[0m         \u001b[1;32mreturn\u001b[0m \u001b[0mself\u001b[0m\u001b[1;33m.\u001b[0m\u001b[0mindex\u001b[0m\u001b[1;33m.\u001b[0m\u001b[0m_get_values_for_loc\u001b[0m\u001b[1;33m(\u001b[0m\u001b[0mself\u001b[0m\u001b[1;33m,\u001b[0m \u001b[0mloc\u001b[0m\u001b[1;33m,\u001b[0m \u001b[0mlabel\u001b[0m\u001b[1;33m)\u001b[0m\u001b[1;33m\u001b[0m\u001b[1;33m\u001b[0m\u001b[0m\n\u001b[0;32m   1071\u001b[0m \u001b[1;33m\u001b[0m\u001b[0m\n",
      "\u001b[1;32mc:\\ProgramData\\Miniconda3\\lib\\site-packages\\pandas\\core\\indexes\\base.py\u001b[0m in \u001b[0;36mget_loc\u001b[1;34m(self, key, method, tolerance)\u001b[0m\n\u001b[0;32m   3621\u001b[0m                 \u001b[1;32mreturn\u001b[0m \u001b[0mself\u001b[0m\u001b[1;33m.\u001b[0m\u001b[0m_engine\u001b[0m\u001b[1;33m.\u001b[0m\u001b[0mget_loc\u001b[0m\u001b[1;33m(\u001b[0m\u001b[0mcasted_key\u001b[0m\u001b[1;33m)\u001b[0m\u001b[1;33m\u001b[0m\u001b[1;33m\u001b[0m\u001b[0m\n\u001b[0;32m   3622\u001b[0m             \u001b[1;32mexcept\u001b[0m \u001b[0mKeyError\u001b[0m \u001b[1;32mas\u001b[0m \u001b[0merr\u001b[0m\u001b[1;33m:\u001b[0m\u001b[1;33m\u001b[0m\u001b[1;33m\u001b[0m\u001b[0m\n\u001b[1;32m-> 3623\u001b[1;33m                 \u001b[1;32mraise\u001b[0m \u001b[0mKeyError\u001b[0m\u001b[1;33m(\u001b[0m\u001b[0mkey\u001b[0m\u001b[1;33m)\u001b[0m \u001b[1;32mfrom\u001b[0m \u001b[0merr\u001b[0m\u001b[1;33m\u001b[0m\u001b[1;33m\u001b[0m\u001b[0m\n\u001b[0m\u001b[0;32m   3624\u001b[0m             \u001b[1;32mexcept\u001b[0m \u001b[0mTypeError\u001b[0m\u001b[1;33m:\u001b[0m\u001b[1;33m\u001b[0m\u001b[1;33m\u001b[0m\u001b[0m\n\u001b[0;32m   3625\u001b[0m                 \u001b[1;31m# If we have a listlike key, _check_indexing_error will raise\u001b[0m\u001b[1;33m\u001b[0m\u001b[1;33m\u001b[0m\u001b[0m\n",
      "\u001b[1;31mKeyError\u001b[0m: 'Образование и ВУЗ'"
     ]
    }
   ],
   "source": [
    "error_data = hh_data.copy()\n",
    "error_data['error'] = False\n",
    "display(error_data.info())\n",
    "for i in range(hh_data.shape[0]):\n",
    "    \"\"\"print (get_education(hh_data.loc[i]['Образование и ВУЗ']) != edu_level_clean(hh_data.loc[i]['Образование и ВУЗ']))\n",
    "    input()\"\"\"\n",
    "    if (get_education(hh_data.loc[i]['Образование и ВУЗ']) != edu_level_clean(hh_data.loc[i]['Образование и ВУЗ'])):\n",
    "        error_data.loc[i,'error'] = True\n",
    "error_data.info()\n",
    "display(error_data[error_data['error'] == True])\n"
   ]
  },
  {
   "cell_type": "code",
   "execution_count": 24,
   "metadata": {},
   "outputs": [],
   "source": [
    "error_data[error_data['error'] == True].to_csv('data/hh.data.csv')"
   ]
  },
  {
   "cell_type": "code",
   "execution_count": 19,
   "metadata": {},
   "outputs": [
    {
     "data": {
      "text/plain": [
       "False    44723\n",
       "True        21\n",
       "Name: error, dtype: int64"
      ]
     },
     "execution_count": 19,
     "metadata": {},
     "output_type": "execute_result"
    }
   ],
   "source": [
    "error_data['error'].value_counts()"
   ]
  },
  {
   "cell_type": "code",
   "execution_count": 29,
   "metadata": {},
   "outputs": [
    {
     "name": "stdout",
     "output_type": "stream",
     "text": [
      "<class 'pandas.core.frame.DataFrame'>\n",
      "RangeIndex: 44744 entries, 0 to 44743\n",
      "Data columns (total 14 columns):\n",
      " #   Column                           Non-Null Count  Dtype         \n",
      "---  ------                           --------------  -----         \n",
      " 0   Пол, возраст                     44744 non-null  object        \n",
      " 1   ЗП                               44744 non-null  object        \n",
      " 2   Ищет работу на должность:        44744 non-null  object        \n",
      " 3   Город, переезд, командировки     44744 non-null  object        \n",
      " 4   Занятость                        44744 non-null  object        \n",
      " 5   График                           44744 non-null  object        \n",
      " 6   Опыт работы                      44576 non-null  object        \n",
      " 7   Последнее/нынешнее место работы  44743 non-null  object        \n",
      " 8   Последняя/нынешняя должность     44742 non-null  object        \n",
      " 9   Образование и ВУЗ                44744 non-null  object        \n",
      " 10  Обновление резюме                44744 non-null  datetime64[ns]\n",
      " 11  Авто                             44744 non-null  object        \n",
      " 12  Пол                              44744 non-null  category      \n",
      " 13  Возраст                          44744 non-null  int16         \n",
      "dtypes: category(1), datetime64[ns](1), int16(1), object(11)\n",
      "memory usage: 4.2+ MB\n"
     ]
    },
    {
     "data": {
      "text/plain": [
       "None"
      ]
     },
     "metadata": {},
     "output_type": "display_data"
    },
    {
     "data": {
      "text/plain": [
       "count    44744.000000\n",
       "mean        32.196741\n",
       "std          7.929800\n",
       "min         14.000000\n",
       "25%         27.000000\n",
       "50%         31.000000\n",
       "75%         36.000000\n",
       "max        100.000000\n",
       "Name: Возраст, dtype: float64"
      ]
     },
     "metadata": {},
     "output_type": "display_data"
    },
    {
     "data": {
      "text/plain": [
       "count     44744\n",
       "unique        2\n",
       "top           М\n",
       "freq      36211\n",
       "Name: Пол, dtype: object"
      ]
     },
     "metadata": {},
     "output_type": "display_data"
    },
    {
     "data": {
      "text/plain": [
       "32.19674146254246"
      ]
     },
     "metadata": {},
     "output_type": "display_data"
    },
    {
     "data": {
      "text/plain": [
       "0.19070713391739674"
      ]
     },
     "metadata": {},
     "output_type": "display_data"
    }
   ],
   "source": [
    "def get_gender_age(st,key='gender'):\n",
    "    st = st.split(' , ')\n",
    "    # Определям пол по первому полю\n",
    "    if key == 'gender':\n",
    "        if st[0].lower() == 'мужчина': gender = 'М'\n",
    "        elif st[0].lower() == 'женщина': gender = 'Ж'\n",
    "        else: gender = np.nan\n",
    "        return gender\n",
    "    # Определяем возраст по первому слову второго поля\n",
    "    elif key == 'age':\n",
    "        try:\n",
    "            age = int(st[1].split(' ')[1])\n",
    "        except:\n",
    "            age = np.nan\n",
    "        return age\n",
    "    else: return np.nan\n",
    "\n",
    "hh_data['Пол'] = hh_data['Пол, возраст'].apply(get_gender_age, key='gender')\n",
    "hh_data['Пол'] = hh_data['Пол'].astype('category')\n",
    "hh_data['Возраст'] = hh_data['Пол, возраст'].apply(get_gender_age, key='age')\n",
    "hh_data['Возраст'] = hh_data['Возраст'].astype(dtype = np.int16)\n",
    "\n",
    "display(hh_data.info())\n",
    "display(hh_data['Возраст'].describe())\n",
    "display(hh_data['Пол'].describe())\n",
    "display(hh_data['Возраст'].mean())\n",
    "display(hh_data[hh_data['Пол'] == 'Ж'].shape[0]/hh_data.shape[0])\n",
    "\n"
   ]
  },
  {
   "cell_type": "code",
   "execution_count": 11,
   "metadata": {},
   "outputs": [
    {
     "name": "stdout",
     "output_type": "stream",
     "text": [
      "NaN\n",
      "nan\n"
     ]
    }
   ],
   "source": [
    "try:\n",
    "    print (int('w'))\n",
    "except:\n",
    "    print('NaN')\n",
    "print(12+np.nan)"
   ]
  },
  {
   "cell_type": "code",
   "execution_count": 14,
   "metadata": {},
   "outputs": [
    {
     "data": {
      "text/plain": [
       "count                                                 44576\n",
       "unique                                                44413\n",
       "top       Опыт работы 10 лет 8 месяцев  Апрель 2018 — по...\n",
       "freq                                                      3\n",
       "Name: Опыт работы, dtype: object"
      ]
     },
     "metadata": {},
     "output_type": "display_data"
    }
   ],
   "source": [
    "#display(hh_data.head(50))\n",
    "display(hh_data['Опыт работы'].describe())"
   ]
  },
  {
   "cell_type": "code",
   "execution_count": 19,
   "metadata": {},
   "outputs": [
    {
     "name": "stdout",
     "output_type": "stream",
     "text": [
      "<class 'pandas.core.frame.DataFrame'>\n",
      "RangeIndex: 44744 entries, 0 to 44743\n",
      "Data columns (total 12 columns):\n",
      " #   Column                           Non-Null Count  Dtype         \n",
      "---  ------                           --------------  -----         \n",
      " 0   Пол, возраст                     44744 non-null  object        \n",
      " 1   ЗП                               44744 non-null  object        \n",
      " 2   Ищет работу на должность:        44744 non-null  object        \n",
      " 3   Город, переезд, командировки     44744 non-null  object        \n",
      " 4   Занятость                        44744 non-null  object        \n",
      " 5   График                           44744 non-null  object        \n",
      " 6   Опыт работы                      44576 non-null  object        \n",
      " 7   Последнее/нынешнее место работы  44743 non-null  object        \n",
      " 8   Последняя/нынешняя должность     44742 non-null  object        \n",
      " 9   Образование и ВУЗ                44744 non-null  object        \n",
      " 10  Обновление резюме                44744 non-null  datetime64[ns]\n",
      " 11  Авто                             44744 non-null  object        \n",
      "dtypes: datetime64[ns](1), object(11)\n",
      "memory usage: 4.1+ MB\n"
     ]
    }
   ],
   "source": [
    "busyness_list = ['полная занятость', 'частичная занятость', 'проектная работа', 'волонтерство', 'стажировка']\n",
    "shedule_list = ['полный день', 'сменный график', 'гибкий график', 'удаленная работа', 'вахтовый метод']\n",
    "one_hot = pd.DataFrame(columns = busyness_list + shedule_list)\n",
    "#hh_data.head()\n",
    "hh_data['Обновление резюме'] = pd.to_datetime(hh_data['Обновление резюме'])\n",
    "hh_data.info()"
   ]
  },
  {
   "cell_type": "code",
   "execution_count": 28,
   "metadata": {},
   "outputs": [
    {
     "name": "stdout",
     "output_type": "stream",
     "text": [
      "<class 'pandas.core.frame.DataFrame'>\n",
      "RangeIndex: 5664 entries, 0 to 5663\n",
      "Data columns (total 7 columns):\n",
      " #   Column      Non-Null Count  Dtype         \n",
      "---  ------      --------------  -----         \n",
      " 0   currency    5664 non-null   object        \n",
      " 1   per         5664 non-null   object        \n",
      " 2   date        5664 non-null   datetime64[ns]\n",
      " 3   time        5664 non-null   object        \n",
      " 4   close       5664 non-null   float64       \n",
      " 5   vol         5664 non-null   int64         \n",
      " 6   proportion  5664 non-null   int64         \n",
      "dtypes: datetime64[ns](1), float64(1), int64(2), object(3)\n",
      "memory usage: 309.9+ KB\n"
     ]
    },
    {
     "data": {
      "text/html": [
       "<div>\n",
       "<style scoped>\n",
       "    .dataframe tbody tr th:only-of-type {\n",
       "        vertical-align: middle;\n",
       "    }\n",
       "\n",
       "    .dataframe tbody tr th {\n",
       "        vertical-align: top;\n",
       "    }\n",
       "\n",
       "    .dataframe thead th {\n",
       "        text-align: right;\n",
       "    }\n",
       "</style>\n",
       "<table border=\"1\" class=\"dataframe\">\n",
       "  <thead>\n",
       "    <tr style=\"text-align: right;\">\n",
       "      <th></th>\n",
       "      <th>currency</th>\n",
       "      <th>per</th>\n",
       "      <th>date</th>\n",
       "      <th>time</th>\n",
       "      <th>close</th>\n",
       "      <th>vol</th>\n",
       "      <th>proportion</th>\n",
       "    </tr>\n",
       "  </thead>\n",
       "  <tbody>\n",
       "    <tr>\n",
       "      <th>0</th>\n",
       "      <td>USD</td>\n",
       "      <td>D</td>\n",
       "      <td>2017-12-29</td>\n",
       "      <td>00:00</td>\n",
       "      <td>57.6291</td>\n",
       "      <td>0</td>\n",
       "      <td>1</td>\n",
       "    </tr>\n",
       "    <tr>\n",
       "      <th>1</th>\n",
       "      <td>USD</td>\n",
       "      <td>D</td>\n",
       "      <td>2017-12-30</td>\n",
       "      <td>00:00</td>\n",
       "      <td>57.6002</td>\n",
       "      <td>0</td>\n",
       "      <td>1</td>\n",
       "    </tr>\n",
       "    <tr>\n",
       "      <th>2</th>\n",
       "      <td>USD</td>\n",
       "      <td>D</td>\n",
       "      <td>2017-12-31</td>\n",
       "      <td>00:00</td>\n",
       "      <td>57.6002</td>\n",
       "      <td>0</td>\n",
       "      <td>1</td>\n",
       "    </tr>\n",
       "    <tr>\n",
       "      <th>3</th>\n",
       "      <td>USD</td>\n",
       "      <td>D</td>\n",
       "      <td>2018-01-01</td>\n",
       "      <td>00:00</td>\n",
       "      <td>57.6002</td>\n",
       "      <td>0</td>\n",
       "      <td>1</td>\n",
       "    </tr>\n",
       "    <tr>\n",
       "      <th>4</th>\n",
       "      <td>USD</td>\n",
       "      <td>D</td>\n",
       "      <td>2018-02-01</td>\n",
       "      <td>00:00</td>\n",
       "      <td>57.6002</td>\n",
       "      <td>0</td>\n",
       "      <td>1</td>\n",
       "    </tr>\n",
       "  </tbody>\n",
       "</table>\n",
       "</div>"
      ],
      "text/plain": [
       "  currency per       date   time    close  vol  proportion\n",
       "0      USD   D 2017-12-29  00:00  57.6291    0           1\n",
       "1      USD   D 2017-12-30  00:00  57.6002    0           1\n",
       "2      USD   D 2017-12-31  00:00  57.6002    0           1\n",
       "3      USD   D 2018-01-01  00:00  57.6002    0           1\n",
       "4      USD   D 2018-02-01  00:00  57.6002    0           1"
      ]
     },
     "execution_count": 28,
     "metadata": {},
     "output_type": "execute_result"
    }
   ],
   "source": [
    "rates = pd.read_csv('data/ExchangeRates.csv')\n",
    "rates[rates['currency']=='UZS'].head()\n",
    "rates['date'] = pd.to_datetime(rates['date'])\n",
    "rates.info()\n",
    "rates.head()"
   ]
  },
  {
   "cell_type": "code",
   "execution_count": 31,
   "metadata": {},
   "outputs": [
    {
     "ename": "AttributeError",
     "evalue": "'float' object has no attribute 'reshape'",
     "output_type": "error",
     "traceback": [
      "\u001b[1;31m---------------------------------------------------------------------------\u001b[0m",
      "\u001b[1;31mAttributeError\u001b[0m                            Traceback (most recent call last)",
      "\u001b[1;32m~\\AppData\\Local\\Temp\\ipykernel_14768\\2317025001.py\u001b[0m in \u001b[0;36m<cell line: 1>\u001b[1;34m()\u001b[0m\n\u001b[1;32m----> 1\u001b[1;33m frame3 = pd.DataFrame(np.nan.reshape((4,4)),\n\u001b[0m\u001b[0;32m      2\u001b[0m \u001b[0mindex\u001b[0m\u001b[1;33m=\u001b[0m\u001b[1;33m[\u001b[0m\u001b[1;34m'red'\u001b[0m\u001b[1;33m,\u001b[0m \u001b[1;34m'blue'\u001b[0m\u001b[1;33m,\u001b[0m \u001b[1;34m'yellow'\u001b[0m\u001b[1;33m,\u001b[0m \u001b[1;34m'white'\u001b[0m\u001b[1;33m]\u001b[0m\u001b[1;33m,\u001b[0m\u001b[1;33m\u001b[0m\u001b[1;33m\u001b[0m\u001b[0m\n\u001b[0;32m      3\u001b[0m columns=['ball', 'pen', 'pencil', 'paper'])\n",
      "\u001b[1;31mAttributeError\u001b[0m: 'float' object has no attribute 'reshape'"
     ]
    }
   ],
   "source": [
    "frame3 = pd.DataFrame(np.nan.reshape((4,4)),\n",
    "index=['red', 'blue', 'yellow', 'white'],\n",
    "columns=['ball', 'pen', 'pencil', 'paper'])"
   ]
  }
 ],
 "metadata": {
  "interpreter": {
   "hash": "19d1d53a962d236aa061289c2ac16dc8e6d9648c89fe79f459ae9a3493bc67b4"
  },
  "kernelspec": {
   "display_name": "Python 3.9.7 ('base')",
   "language": "python",
   "name": "python3"
  },
  "language_info": {
   "codemirror_mode": {
    "name": "ipython",
    "version": 3
   },
   "file_extension": ".py",
   "mimetype": "text/x-python",
   "name": "python",
   "nbconvert_exporter": "python",
   "pygments_lexer": "ipython3",
   "version": "3.9.7"
  },
  "orig_nbformat": 4
 },
 "nbformat": 4,
 "nbformat_minor": 2
}
