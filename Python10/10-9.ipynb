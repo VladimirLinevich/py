{
 "cells": [
  {
   "cell_type": "code",
   "execution_count": 2,
   "metadata": {},
   "outputs": [
    {
     "name": "stdout",
     "output_type": "stream",
     "text": [
      "1000\n",
      "88\n",
      "66.089\n",
      "73.89385474860335\n",
      "1\n",
      "70.03410852713178\n",
      "58.92112676056338\n",
      "0.118\n",
      "       math score  reading score  writing score\n",
      "count  1000.00000    1000.000000    1000.000000\n",
      "mean     66.08900      69.169000      68.054000\n",
      "std      15.16308      14.600192      15.195657\n",
      "min       0.00000      17.000000      10.000000\n",
      "25%      57.00000      59.000000      57.750000\n",
      "50%      66.00000      70.000000      69.000000\n",
      "75%      77.00000      79.000000      79.000000\n",
      "max     100.00000     100.000000     100.000000\n"
     ]
    }
   ],
   "source": [
    "import pandas as pd\n",
    "student_data = pd.read_csv('data/students_performance.csv', sep=',')\n",
    "print(student_data.shape[0]) #количество студентов\n",
    "print(student_data.loc[155,'writing score']) #Каков балл по письму у студента под индексом 155\n",
    "#display(student_data.info())\n",
    "print(student_data['math score'].mean()) # средний бал по математике\n",
    "#print(student_data['race/ethnicity'].value_counts()) # группы по рассовой принадлежности\n",
    "print(student_data[student_data['test preparation course'] == 'completed']['reading score'].mean()) #Каков средний балл по чтению у студентов, которые посещали курсы подготовки к экзаменам?\n",
    "print(student_data[student_data['math score'] == 0].shape[0]) #Сколько студентов получили 0 баллов по математике?\n",
    "print(student_data[student_data['lunch'] == 'standard']['math score'].mean())\n",
    "print(student_data[student_data['lunch'] != 'standard']['math score'].mean())\n",
    "print(student_data[student_data['parental level of education'] == \"bachelor's degree\"].shape[0]/student_data.shape[0])\n",
    "print(student_data.describe())\n"
   ]
  }
 ],
 "metadata": {
  "interpreter": {
   "hash": "a1ac95b630ff19a5d2a3b35c6af1e3986c80062a8d6439f9f07650a3e8045b34"
  },
  "kernelspec": {
   "display_name": "Python 3.10.2 ('sklearn-env')",
   "language": "python",
   "name": "python3"
  },
  "language_info": {
   "codemirror_mode": {
    "name": "ipython",
    "version": 3
   },
   "file_extension": ".py",
   "mimetype": "text/x-python",
   "name": "python",
   "nbconvert_exporter": "python",
   "pygments_lexer": "ipython3",
   "version": "3.10.2"
  },
  "orig_nbformat": 4
 },
 "nbformat": 4,
 "nbformat_minor": 2
}
