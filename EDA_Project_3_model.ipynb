{
 "cells": [
  {
   "cell_type": "code",
   "execution_count": 1,
   "metadata": {},
   "outputs": [],
   "source": [
    "import pandas as pd\n",
    "import numpy as np\n",
    "import category_encoders as ce\n",
    "import matplotlib.pyplot as plt\n",
    "import seaborn as sns\n",
    "from sklearn.feature_selection import chi2\n",
    "from sklearn.feature_selection import f_classif"
   ]
  },
  {
   "cell_type": "code",
   "execution_count": 2,
   "metadata": {},
   "outputs": [],
   "source": [
    "DATA_DIR = ''\n",
    "df_train = pd.read_csv(DATA_DIR+'hotels_train.csv') # датасет для обучения\n",
    "df_test = pd.read_csv(DATA_DIR+'hotels_test.csv') # датасет для предсказания\n",
    "sample_submission = pd.read_csv(DATA_DIR+'submission.csv') # самбмишн"
   ]
  },
  {
   "cell_type": "code",
   "execution_count": 3,
   "metadata": {},
   "outputs": [],
   "source": [
    "# ВАЖНО! дря корректной обработки признаков объединяем трейн и тест в один датасет\n",
    "df_train['sample'] = 1 # помечаем где у нас трейн\n",
    "df_test['sample'] = 0 # помечаем где у нас тест\n",
    "df_test['reviewer_score'] = 0 # в тесте у нас нет значения reviewer_score, мы его должны предсказать, по этому пока просто заполняем нулями\n",
    "\n",
    "hotels = df_test.append(df_train, sort=False).reset_index(drop=True) # объединяем данные для обработки"
   ]
  },
  {
   "cell_type": "markdown",
   "metadata": {},
   "source": [
    "Признак Дата отзыва"
   ]
  },
  {
   "cell_type": "code",
   "execution_count": 55,
   "metadata": {},
   "outputs": [],
   "source": [
    "# Создадим новые признаки из Даты отзыва  \n",
    "hotels['review_date'] = pd.to_datetime(hotels['review_date'])\n",
    "hotels['year'] = hotels['review_date'].dt.year\n",
    "hotels['month'] = hotels['review_date'].dt.month\n",
    "hotels['day'] = hotels['review_date'].dt.day\n",
    "hotels['day_of_week'] = hotels['review_date'].dt.dayofweek\n",
    "hotels['week'] = hotels['review_date'].dt.isocalendar().week\n"
   ]
  },
  {
   "cell_type": "code",
   "execution_count": 65,
   "metadata": {},
   "outputs": [
    {
     "data": {
      "text/plain": [
       "<AxesSubplot:>"
      ]
     },
     "execution_count": 65,
     "metadata": {},
     "output_type": "execute_result"
    },
    {
     "data": {
      "image/png": "[encoded data removed]",
      "text/plain": [
       "<Figure size 720x288 with 1 Axes>"
      ]
     },
     "metadata": {
      "needs_background": "light"
     },
     "output_type": "display_data"
    }
   ],
   "source": [
    "# Посмотрим на корреляцию целевого признака с новыми признаками на основе Даты\n",
    "\n",
    "name_cols = ['year','month','day','day_of_week','week']\n",
    "y = hotels.query('sample == 1').drop(['sample'], axis=1)['reviewer_score'].values.astype('int')\n",
    "X = hotels.query('sample == 1').drop(['sample'], axis=1)[name_cols]\n",
    "\n",
    "plt.rcParams['figure.figsize'] = (10,4)\n",
    "#imp_cat = pd.Series(chi2(X, y)[0], index=name_cols)\n",
    "imp_cat = pd.Series(f_classif(X, y)[0], index = name_cols) # v.19\n",
    "imp_cat.sort_values(inplace = True)\n",
    "imp_cat.plot(kind = 'barh')"
   ]
  },
  {
   "cell_type": "code",
   "execution_count": 66,
   "metadata": {},
   "outputs": [],
   "source": [
    "# Судя по корреляции - удалим признаки 'day','day_of_week', а также исходный признак 'review_date'\n",
    "hotels.drop(['day','day_of_week','review_date'],axis=1,inplace=True)"
   ]
  },
  {
   "cell_type": "markdown",
   "metadata": {},
   "source": [
    "Адрес отеля"
   ]
  },
  {
   "cell_type": "code",
   "execution_count": 120,
   "metadata": {},
   "outputs": [],
   "source": [
    "# Создадим новые признаки - Страна и Город\n",
    "hotels['city'] = hotels['hotel_address'].apply(lambda x:x.split()[-2])\n",
    "hotels['country'] = hotels['hotel_address'].apply(lambda x:x.split()[-1])\n",
    "\n",
    "# Закодируем признаки  при помощи простой числовой кодировки\n",
    "ord_encoder = ce.OrdinalEncoder()\n",
    "hotels['city'] = ord_encoder.fit_transform(hotels['city'])\n",
    "hotels['country'] = ord_encoder.fit_transform(hotels['country'])"
   ]
  },
  {
   "cell_type": "markdown",
   "metadata": {},
   "source": [
    "Тектсы отзывов "
   ]
  },
  {
   "cell_type": "code",
   "execution_count": 82,
   "metadata": {},
   "outputs": [],
   "source": [
    "\"\"\"  В текстах отзывов есть противоречивые данные: \n",
    "- в тексте позитивного отзыва встречается \"No Positive\"...,\n",
    "- в тексте негативного отзыва встречается \"No Negative\"...,\n",
    "Создадим два новых признака где отметим этот факт        \"\"\"\n",
    "\n",
    "# Удалим пробелы вначале и конце строк с отзывами\n",
    "hotels['positive_review'].apply(lambda x:x.strip())\n",
    "hotels['negative_review'].apply(lambda x:x.strip())\n",
    "\n",
    "#Списки часто встречающихся НЕпозитивных слов в позитивных отзывах и НЕнегативных слов в негативных отзывах\n",
    "no_pos = [\n",
    "    'No Positive', \n",
    "    'Nothing', \n",
    "    'nothing']\n",
    "no_neg = [\n",
    "    'No Negative',\n",
    "    'All good',\n",
    "    'Nothing really',\n",
    "    'Nothing',\n",
    "    'nothing',\n",
    "    'N A',\n",
    "    'none',\n",
    "    'N a',\n",
    "    'Nothing at all',\n",
    "    'Nothing to dislike']\n",
    "    \n",
    "hotels['No Positive'] = hotels['positive_review'].apply(\n",
    "    lambda x:1 if x in no_pos else 0\n",
    "    )\n",
    "\n",
    "# Очистим исходные признаки от противоречивых данных   \n",
    "hotels['positive_review'] = hotels['positive_review'].apply(\n",
    "    lambda x:'' if x in no_pos else x\n",
    "    )\n",
    "  \n",
    "hotels['No Negative'] = hotels['negative_review'].apply(\n",
    "    lambda x:1 if x in no_neg else 0\n",
    "    )\n",
    "\n",
    "# Очистим исходные признаки от противоречивых данных   \n",
    "hotels['negative_review'] = hotels['negative_review'].apply(\n",
    "    lambda x:'' if x in no_neg else x\n",
    "    )\n"
   ]
  },
  {
   "cell_type": "code",
   "execution_count": 84,
   "metadata": {},
   "outputs": [
    {
     "data": {
      "text/plain": [
       "0    387848\n",
       "1    127890\n",
       "Name: No Negative, dtype: int64"
      ]
     },
     "execution_count": 84,
     "metadata": {},
     "output_type": "execute_result"
    }
   ],
   "source": [
    "# Интересная особенность - 25% негативных отзывов на самом деле не негативные\n",
    "hotels['No Negative'].value_counts()"
   ]
  },
  {
   "cell_type": "markdown",
   "metadata": {},
   "source": [
    "Используем библиотеку для анализа текста по эмоциональному окрасу"
   ]
  },
  {
   "cell_type": "code",
   "execution_count": 121,
   "metadata": {},
   "outputs": [
    {
     "name": "stderr",
     "output_type": "stream",
     "text": [
      "[nltk_data] Downloading package vader_lexicon to\n",
      "[nltk_data]     C:\\Users\\1\\AppData\\Roaming\\nltk_data...\n",
      "[nltk_data]   Package vader_lexicon is already up-to-date!\n",
      "[nltk_data] Downloading package vader_lexicon to\n",
      "[nltk_data]     C:\\Users\\1\\AppData\\Roaming\\nltk_data...\n",
      "[nltk_data]   Package vader_lexicon is already up-to-date!\n"
     ]
    }
   ],
   "source": [
    "# Импортируем библиотеку\n",
    "import nltk\n",
    "from nltk.sentiment.vader import SentimentIntensityAnalyzer\n",
    "nltk.download('vader_lexicon')\n",
    "nltk.downloader.download('vader_lexicon')\n",
    "\n",
    "analizer = SentimentIntensityAnalyzer()\n",
    "# Создаем новые признаки для эмоциональной окраски \n",
    "hotels['neg_sent'] = hotels['negative_review'].apply(lambda x: analizer.polarity_scores(x))\n",
    "hotels['pos_sent'] = hotels['positive_review'].apply(lambda x: analizer.polarity_scores(x))"
   ]
  },
  {
   "cell_type": "code",
   "execution_count": 136,
   "metadata": {},
   "outputs": [],
   "source": [
    "# Создаем новые признаки из результатов анализа текстов\n",
    "hotels['neg_sent_neg'] = hotels['neg_sent'].apply(lambda x: x['neg'])\n",
    "hotels['neg_sent_neu'] = hotels['neg_sent'].apply(lambda x: x['neu'])\n",
    "hotels['neg_sent_pos'] = hotels['neg_sent'].apply(lambda x: x['pos'])\n",
    "hotels['neg_sent_comp'] = hotels['neg_sent'].apply(lambda x: x['compound'])\n",
    "\n",
    "hotels['pos_sent_neg'] = hotels['pos_sent'].apply(lambda x: x['neg'])\n",
    "hotels['pos_sent_neu'] = hotels['pos_sent'].apply(lambda x: x['neu'])\n",
    "hotels['pos_sent_pos'] = hotels['pos_sent'].apply(lambda x: x['pos'])\n",
    "hotels['pos_sent_comp'] = hotels['pos_sent'].apply(lambda x: x['compound'])"
   ]
  },
  {
   "cell_type": "markdown",
   "metadata": {},
   "source": [
    "Тэги"
   ]
  },
  {
   "cell_type": "code",
   "execution_count": 137,
   "metadata": {},
   "outputs": [
    {
     "data": {
      "text/plain": [
       "['Leisure trip',\n",
       " 'Submitted from a mobile device',\n",
       " 'Couple',\n",
       " 'Stayed 1 night',\n",
       " 'Stayed 2 nights',\n",
       " 'Solo traveler',\n",
       " 'Stayed 3 nights',\n",
       " 'Business trip',\n",
       " 'Group',\n",
       " 'Family with young children',\n",
       " 'Stayed 4 nights',\n",
       " 'Double Room',\n",
       " 'Standard Double Room',\n",
       " 'Superior Double Room',\n",
       " 'Family with older children',\n",
       " 'Deluxe Double Room',\n",
       " 'Double or Twin Room',\n",
       " 'Stayed 5 nights',\n",
       " 'Standard Double or Twin Room',\n",
       " 'Classic Double Room']"
      ]
     },
     "metadata": {},
     "output_type": "display_data"
    }
   ],
   "source": [
    "\"\"\" Найдем популярные тэги и создадим новые признаки с полезными данными \"\"\"\n",
    "# Ищем популярные тэги\n",
    "def get_tags(string):\n",
    "    s = string.split(\"' \")[1:]\n",
    "    for i in range(len(s)):\n",
    "        s[i] = s[i].lstrip().replace(\" ', \",\"\")\n",
    "    s[len(s)-1] = s[len(s)-1].replace(\" ']\",\"\")\n",
    "    return (s)\n",
    "\n",
    "hotels['set_tags'] = hotels['tags'].apply(get_tags)\n",
    "tags_set = set()\n",
    "for tags in hotels['set_tags']:\n",
    "    for tag in tags:\n",
    "        tags_set.add(tag)\n",
    "\n",
    "dict_tags = dict.fromkeys(list(tags_set),0)\n",
    "for tags in hotels['set_tags']:\n",
    "    for tag in tags:\n",
    "        dict_tags[tag] += 1\n",
    "\n",
    "usage_tags = pd.DataFrame(data = {'tag':list(tags_set),'count':0})\n",
    "for i in range(len(usage_tags)):\n",
    "    usage_tags.loc[i,'count'] = dict_tags[usage_tags.loc[i,'tag']]\n",
    "\n",
    "# Выбираем 20 самых популярных и сохраняем в список\n",
    "top_tags = list(usage_tags.sort_values(\n",
    "    by = 'count', ascending = False).head(20)['tag']\n",
    "    )\n",
    "display(top_tags)\n"
   ]
  },
  {
   "cell_type": "code",
   "execution_count": 124,
   "metadata": {},
   "outputs": [],
   "source": [
    "# Сделаем копию данных\n",
    "hotels2 = hotels.copy()\n",
    "\n",
    "# Создадим новые признаки из популярных тэгов, используя ohe_hot кодирование\n",
    "# Массив Numpy значительно ускоряет работу - без него выполнялось дольше в десятки раз.\n",
    "\n",
    "# Что из тэгов может влиять на рейтинг?\n",
    "# Субъективная оценка говорит о том, что тип номера или цель путешествия врядли влияют\n",
    "# Поэтому остановимся на следующих признаках\n",
    "# - количество ночей\n",
    "# - Couple\n",
    "# - Solo traveler\n",
    "# - Family with young children\n",
    "# - Family with older children\n",
    "top_tags_manual = ['Couple','Solo traveler','Family with young children','Family with older children']\n",
    "\n",
    "# Создадим новые признаки методом one_hot кодирования\n",
    "array2 = np.zeros((len(hotels2)+1,len(top_tags_manual)+1),dtype=int)\n",
    "for i in range(len(hotels2)):\n",
    "    for str in hotels2.loc[i,'tags']:\n",
    "        for j in range(len(top_tags_manual)):\n",
    "            if str == top_tags_manual[j]:\n",
    "                array2[i,j] = 1\n",
    "                break\n",
    "# Создаем новые признаки и записываем в них данные из массива\n",
    "for j in range(len(top_tags_manual)):\n",
    "    hotels2.loc[:,top_tags_manual[j]] = array2[:-1,j]"
   ]
  },
  {
   "cell_type": "code",
   "execution_count": null,
   "metadata": {},
   "outputs": [],
   "source": [
    "# Создадим признак - количество ночей, данные берем из тэгов\n",
    "array2 = np.zeros((len(hotels2)+1,1),dtype=int)\n",
    "\n",
    "for i in range(len(hotels)):\n",
    "    for tag in hotels.loc[i,'set_tags']:\n",
    "        words = tag.split()\n",
    "        if words[0] == 'Stayed':\n",
    "            array2[i] = int(words[1])\n",
    "            break\n",
    "\n",
    "hotels2['stayed'] = array2[:-1]"
   ]
  },
  {
   "cell_type": "code",
   "execution_count": 126,
   "metadata": {},
   "outputs": [],
   "source": [
    "# Создаем новые признаки - пропорции плохих и хороших слов на основании исходных данных\n",
    "hotels2['word_positive_part'] = hotels2['review_total_positive_word_counts']/(hotels2['review_total_negative_word_counts']+hotels2['review_total_positive_word_counts'])\n",
    "hotels2['word_negative_part'] = hotels2['review_total_negative_word_counts']/(hotels2['review_total_negative_word_counts']+hotels2['review_total_positive_word_counts'])\n",
    "hotels2['word_positive_part'].fillna(0,inplace=True)\n",
    "hotels2['word_negative_part'].fillna(0,inplace=True)"
   ]
  },
  {
   "cell_type": "code",
   "execution_count": 128,
   "metadata": {},
   "outputs": [],
   "source": [
    "X = hotels2.drop(['reviewer_score'], axis = 1)  \n",
    "y = hotels2[hotels2['sample'] == 1]['reviewer_score'] \n",
    "X = X[X['sample'] == 1].drop([\n",
    "    'hotel_address',\n",
    "    'hotel_name',\n",
    "    'reviewer_nationality',\n",
    "    'negative_review',\n",
    "    'positive_review',\n",
    "    'tags',\n",
    "    'days_since_review',\n",
    "    'set_tags',\n",
    "    'lat',\n",
    "    'sample',\n",
    "    'neg_sent',\n",
    "    'pos_sent'\n",
    "    ], axis = 1)\n",
    "X['lng'].fillna(X['lng'].median(),inplace=True)"
   ]
  },
  {
   "cell_type": "code",
   "execution_count": 129,
   "metadata": {},
   "outputs": [
    {
     "name": "stderr",
     "output_type": "stream",
     "text": [
      "[Parallel(n_jobs=-1)]: Using backend ThreadingBackend with 8 concurrent workers.\n",
      "[Parallel(n_jobs=-1)]: Done  34 tasks      | elapsed:   45.9s\n",
      "[Parallel(n_jobs=-1)]: Done 100 out of 100 | elapsed:  2.0min finished\n",
      "[Parallel(n_jobs=8)]: Using backend ThreadingBackend with 8 concurrent workers.\n",
      "[Parallel(n_jobs=8)]: Done  34 tasks      | elapsed:    0.4s\n"
     ]
    },
    {
     "name": "stdout",
     "output_type": "stream",
     "text": [
      "MAPE: 0.12620394798748277\n"
     ]
    },
    {
     "name": "stderr",
     "output_type": "stream",
     "text": [
      "[Parallel(n_jobs=8)]: Done 100 out of 100 | elapsed:    1.3s finished\n"
     ]
    }
   ],
   "source": [
    "# Загружаем специальный инструмент для разбивки:  \n",
    "from sklearn.model_selection import train_test_split\n",
    "\n",
    "# Наборы данных с меткой \"train\" будут использоваться для обучения модели, \"test\" - для тестирования.  \n",
    "# Для тестирования мы будем использовать 25% от исходного датасета.  \n",
    "X_train, X_test, y_train, y_test = train_test_split(X, y, test_size=0.15, random_state=42)\n",
    "\n",
    "# проверяем\n",
    "y_test, y_train.shape, X.shape, X_train.shape, X_test.shape\n",
    "\n",
    "# Импортируем необходимые библиотеки:  \n",
    "from sklearn.ensemble import RandomForestRegressor # инструмент для создания и обучения модели  \n",
    "from sklearn import metrics # инструменты для оценки точности модели  \n",
    "  \n",
    "# Создаём модель\n",
    "RANDOM_SEED = 42\n",
    "regr = RandomForestRegressor(n_estimators=100,verbose=1, n_jobs=-1, random_state=RANDOM_SEED)  \n",
    "      \n",
    "# Обучаем модель на тестовом наборе данных  \n",
    "regr.fit(X_train, y_train)  \n",
    "      \n",
    "# Используем обученную модель для предсказания рейтинга отелей в тестовой выборке.  \n",
    "# Предсказанные значения записываем в переменную y_pred  \n",
    "y_pred = regr.predict(X_test) \n",
    "\n",
    "# Сравниваем предсказанные значения (y_pred) с реальными (y_test), и смотрим насколько они отличаются  \n",
    "# Метрика называется Mean Absolute Percentage Error (MAPE) и показывает среднюю абсолютную процентную ошибку предсказанных значений от фактических.  \n",
    "print('MAPE:', metrics.mean_absolute_percentage_error(y_test, y_pred))"
   ]
  },
  {
   "cell_type": "code",
   "execution_count": 134,
   "metadata": {},
   "outputs": [
    {
     "name": "stderr",
     "output_type": "stream",
     "text": [
      "[Parallel(n_jobs=8)]: Using backend ThreadingBackend with 8 concurrent workers.\n",
      "[Parallel(n_jobs=8)]: Done  34 tasks      | elapsed:    1.0s\n",
      "[Parallel(n_jobs=8)]: Done 100 out of 100 | elapsed:    2.6s finished\n"
     ]
    }
   ],
   "source": [
    "X = hotels2.drop(['reviewer_score'], axis = 1)\n",
    "X = X[X['sample'] == 0].drop([\n",
    "    'hotel_address',\n",
    "    'hotel_name',\n",
    "    'reviewer_nationality',\n",
    "    'negative_review',\n",
    "    'positive_review',\n",
    "    'tags',\n",
    "    'days_since_review',\n",
    "    'set_tags',\n",
    "    'lat',\n",
    "    'sample',\n",
    "    'neg_sent',\n",
    "    'pos_sent'\n",
    "    ], axis = 1)\n",
    "X['lng'].fillna(X['lng'].median(),inplace=True)\n",
    "\n",
    "final_pred = regr.predict(X)\n",
    "\n",
    "#print('MAPE:', metrics.mean_absolute_percentage_error(y, final_pred))"
   ]
  },
  {
   "cell_type": "code",
   "execution_count": 135,
   "metadata": {},
   "outputs": [],
   "source": [
    "sample_submission['reviewer_score'] = final_pred\n",
    "sample_submission.to_csv('submission4.csv',index=False)"
   ]
  },
  {
   "cell_type": "code",
   "execution_count": 130,
   "metadata": {},
   "outputs": [
    {
     "data": {
      "text/plain": [
       "<AxesSubplot:>"
      ]
     },
     "execution_count": 130,
     "metadata": {},
     "output_type": "execute_result"
    },
    {
     "data": {
      "image/png": "[encoded data removed]",
      "text/plain": [
       "<Figure size 720x1152 with 1 Axes>"
      ]
     },
     "metadata": {
      "needs_background": "light"
     },
     "output_type": "display_data"
    }
   ],
   "source": [
    "# импортируем библиотеки для визуализации\n",
    "\n",
    "plt.rcParams['figure.figsize'] = (10,16)\n",
    "feat_importances = pd.Series(regr.feature_importances_, index=X.columns)\n",
    "feat_importances.nlargest(40).plot(kind='barh')"
   ]
  },
  {
   "cell_type": "code",
   "execution_count": null,
   "metadata": {},
   "outputs": [],
   "source": []
  }
 ],
 "metadata": {
  "kernelspec": {
   "display_name": "Python 3.9.7 64-bit",
   "language": "python",
   "name": "python3"
  },
  "language_info": {
   "codemirror_mode": {
    "name": "ipython",
    "version": 3
   },
   "file_extension": ".py",
   "mimetype": "text/x-python",
   "name": "python",
   "nbconvert_exporter": "python",
   "pygments_lexer": "ipython3",
   "version": "3.9.7"
  },
  "vscode": {
   "interpreter": {
    "hash": "5454c2acc74d20840704f95be45d6c5f6cda957f73a363ffa059b8adbe38424c"
   }
  }
 },
 "nbformat": 4,
 "nbformat_minor": 2
}
