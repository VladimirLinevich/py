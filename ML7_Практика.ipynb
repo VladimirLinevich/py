{
  "cells": [
    {
      "cell_type": "markdown",
      "metadata": {
        "id": "view-in-github",
        "colab_type": "text"
      },
      "source": [
        "<a href=\"https://colab.research.google.com/github/VladimirLinevich/py/blob/master/ML7_%D0%9F%D1%80%D0%B0%D0%BA%D1%82%D0%B8%D0%BA%D0%B0.ipynb\" target=\"_parent\"><img src=\"https://colab.research.google.com/assets/colab-badge.svg\" alt=\"Open In Colab\"/></a>"
      ]
    },
    {
      "cell_type": "code",
      "execution_count": 6,
      "metadata": {
        "id": "T32UrwyEclU3"
      },
      "outputs": [],
      "source": [
        "import numpy as np #для матричных вычислений\n",
        "import pandas as pd #для анализа и предобработки данных\n",
        "import matplotlib.pyplot as plt #для визуализации\n",
        "import seaborn as sns #для визуализации\n",
        "from sklearn import linear_model #линейные моделиё\n",
        "from sklearn import tree #деревья решений\n",
        "from sklearn import ensemble #ансамбли\n",
        "from sklearn import metrics #метрики\n",
        "from sklearn import preprocessing #предобработка\n",
        "from sklearn.model_selection import train_test_split #сплитование выборки\n",
        "from sklearn.feature_selection import RFE\n",
        "from sklearn.feature_selection import SelectKBest,f_regression\n",
        "from sklearn.model_selection import GridSearchCV\n",
        "from sklearn.model_selection import RandomizedSearchCV\n",
        "from sklearn.model_selection import cross_val_score\n",
        "import hyperopt\n",
        "from hyperopt import hp, fmin, tpe, Trials\n"
      ]
    },
    {
      "cell_type": "code",
      "source": [
        "from google.colab import files\n",
        "\n",
        "uploaded = files.upload()\n",
        "\n",
        "for fn in uploaded.keys():\n",
        "  print('User uploaded file \"{name}\" with length {length} bytes'.format(\n",
        "      name=fn, length=len(uploaded[fn])))"
      ],
      "metadata": {
        "colab": {
          "resources": {
            "http://localhost:8080/nbextensions/google.colab/files.js": {
              "data": "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",
              "ok": true,
              "headers": [
                [
                  "content-type",
                  "application/javascript"
                ]
              ],
              "status": 200,
              "status_text": ""
            }
          },
          "base_uri": "https://localhost:8080/",
          "height": 91
        },
        "id": "rsY8BGS_eFMo",
        "outputId": "e5493876-fc20-43ad-caa0-4ae29fe52ed4"
      },
      "execution_count": 4,
      "outputs": [
        {
          "output_type": "display_data",
          "data": {
            "text/plain": [
              "<IPython.core.display.HTML object>"
            ],
            "text/html": [
              "\n",
              "     <input type=\"file\" id=\"files-807fd655-64d8-4eb7-ae0e-d4bc2fade627\" name=\"files[]\" multiple disabled\n",
              "        style=\"border:none\" />\n",
              "     <output id=\"result-807fd655-64d8-4eb7-ae0e-d4bc2fade627\">\n",
              "      Upload widget is only available when the cell has been executed in the\n",
              "      current browser session. Please rerun this cell to enable.\n",
              "      </output>\n",
              "      <script src=\"/nbextensions/google.colab/files.js\"></script> "
            ]
          },
          "metadata": {}
        },
        {
          "output_type": "stream",
          "name": "stdout",
          "text": [
            "Saving _train_sem09 (1).csv to _train_sem09 (1).csv\n",
            "User uploaded file \"_train_sem09 (1).csv\" with length 18623278 bytes\n"
          ]
        }
      ]
    },
    {
      "cell_type": "code",
      "execution_count": 7,
      "metadata": {
        "id": "1H08SsbhclU7"
      },
      "outputs": [],
      "source": [
        "data = pd.read_csv('_train_sem09 (1).csv')\n",
        "\n",
        "# Разделим выборку на тренировочную и тестовую\n",
        "y = data['Activity']\n",
        "X = data.drop(columns='Activity')\n",
        "\n",
        "X_train, X_test, y_train, y_test = train_test_split(X, y, test_size=0.2, random_state=42)"
      ]
    },
    {
      "cell_type": "code",
      "execution_count": 8,
      "metadata": {
        "colab": {
          "base_uri": "https://localhost:8080/"
        },
        "id": "B3K2ocVrclU8",
        "outputId": "00a1f817-ef8c-4ce9-d0ae-ab5119f48552"
      },
      "outputs": [
        {
          "output_type": "stream",
          "name": "stdout",
          "text": [
            "              precision    recall  f1-score   support\n",
            "\n",
            "           0       0.72      0.69      0.70       318\n",
            "           1       0.78      0.80      0.79       433\n",
            "\n",
            "    accuracy                           0.75       751\n",
            "   macro avg       0.75      0.75      0.75       751\n",
            "weighted avg       0.75      0.75      0.75       751\n",
            "\n"
          ]
        }
      ],
      "source": [
        "# Обучим модель логистической регрессии на всех признаках, \n",
        "# с параметрами по-умолчанию, чтобы перед глазами был некий эталон для сравнения\n",
        "\n",
        "lr_full = linear_model.LogisticRegression(max_iter=1000, random_state=42)\n",
        "lr_full.fit(X_train, y_train)\n",
        "\n",
        "# Сделаем предсказание на тестовой выборке\n",
        "y_test_pred = lr_full.predict(X_test)\n",
        "\n",
        "# Метрики модели\n",
        "print(metrics.classification_report(y_test,y_test_pred))"
      ]
    },
    {
      "cell_type": "code",
      "execution_count": 9,
      "metadata": {
        "colab": {
          "base_uri": "https://localhost:8080/",
          "height": 1000
        },
        "id": "8xQkI51ZclU9",
        "outputId": "55adf3e6-dca2-4cc5-ae8a-b80b8b8612a4"
      },
      "outputs": [
        {
          "output_type": "stream",
          "name": "stderr",
          "text": [
            "/usr/local/lib/python3.7/dist-packages/sklearn/feature_selection/_univariate_selection.py:289: RuntimeWarning: invalid value encountered in true_divide\n",
            "  correlation_coefficient /= X_norms\n",
            "/usr/local/lib/python3.7/dist-packages/sklearn/feature_selection/_univariate_selection.py:289: RuntimeWarning: invalid value encountered in true_divide\n",
            "  correlation_coefficient /= X_norms\n",
            "/usr/local/lib/python3.7/dist-packages/sklearn/feature_selection/_univariate_selection.py:289: RuntimeWarning: invalid value encountered in true_divide\n",
            "  correlation_coefficient /= X_norms\n",
            "/usr/local/lib/python3.7/dist-packages/sklearn/feature_selection/_univariate_selection.py:289: RuntimeWarning: invalid value encountered in true_divide\n",
            "  correlation_coefficient /= X_norms\n",
            "/usr/local/lib/python3.7/dist-packages/sklearn/feature_selection/_univariate_selection.py:289: RuntimeWarning: invalid value encountered in true_divide\n",
            "  correlation_coefficient /= X_norms\n",
            "/usr/local/lib/python3.7/dist-packages/sklearn/feature_selection/_univariate_selection.py:289: RuntimeWarning: invalid value encountered in true_divide\n",
            "  correlation_coefficient /= X_norms\n",
            "/usr/local/lib/python3.7/dist-packages/sklearn/feature_selection/_univariate_selection.py:289: RuntimeWarning: invalid value encountered in true_divide\n",
            "  correlation_coefficient /= X_norms\n",
            "/usr/local/lib/python3.7/dist-packages/sklearn/feature_selection/_univariate_selection.py:289: RuntimeWarning: invalid value encountered in true_divide\n",
            "  correlation_coefficient /= X_norms\n",
            "/usr/local/lib/python3.7/dist-packages/sklearn/feature_selection/_univariate_selection.py:289: RuntimeWarning: invalid value encountered in true_divide\n",
            "  correlation_coefficient /= X_norms\n",
            "/usr/local/lib/python3.7/dist-packages/sklearn/feature_selection/_univariate_selection.py:289: RuntimeWarning: invalid value encountered in true_divide\n",
            "  correlation_coefficient /= X_norms\n",
            "/usr/local/lib/python3.7/dist-packages/sklearn/feature_selection/_univariate_selection.py:289: RuntimeWarning: invalid value encountered in true_divide\n",
            "  correlation_coefficient /= X_norms\n",
            "/usr/local/lib/python3.7/dist-packages/sklearn/feature_selection/_univariate_selection.py:289: RuntimeWarning: invalid value encountered in true_divide\n",
            "  correlation_coefficient /= X_norms\n",
            "/usr/local/lib/python3.7/dist-packages/sklearn/feature_selection/_univariate_selection.py:289: RuntimeWarning: invalid value encountered in true_divide\n",
            "  correlation_coefficient /= X_norms\n",
            "/usr/local/lib/python3.7/dist-packages/sklearn/feature_selection/_univariate_selection.py:289: RuntimeWarning: invalid value encountered in true_divide\n",
            "  correlation_coefficient /= X_norms\n",
            "/usr/local/lib/python3.7/dist-packages/sklearn/feature_selection/_univariate_selection.py:289: RuntimeWarning: invalid value encountered in true_divide\n",
            "  correlation_coefficient /= X_norms\n",
            "/usr/local/lib/python3.7/dist-packages/sklearn/feature_selection/_univariate_selection.py:289: RuntimeWarning: invalid value encountered in true_divide\n",
            "  correlation_coefficient /= X_norms\n",
            "/usr/local/lib/python3.7/dist-packages/sklearn/feature_selection/_univariate_selection.py:289: RuntimeWarning: invalid value encountered in true_divide\n",
            "  correlation_coefficient /= X_norms\n",
            "/usr/local/lib/python3.7/dist-packages/sklearn/feature_selection/_univariate_selection.py:289: RuntimeWarning: invalid value encountered in true_divide\n",
            "  correlation_coefficient /= X_norms\n",
            "/usr/local/lib/python3.7/dist-packages/sklearn/feature_selection/_univariate_selection.py:289: RuntimeWarning: invalid value encountered in true_divide\n",
            "  correlation_coefficient /= X_norms\n",
            "/usr/local/lib/python3.7/dist-packages/sklearn/feature_selection/_univariate_selection.py:289: RuntimeWarning: invalid value encountered in true_divide\n",
            "  correlation_coefficient /= X_norms\n",
            "/usr/local/lib/python3.7/dist-packages/sklearn/feature_selection/_univariate_selection.py:289: RuntimeWarning: invalid value encountered in true_divide\n",
            "  correlation_coefficient /= X_norms\n",
            "/usr/local/lib/python3.7/dist-packages/sklearn/feature_selection/_univariate_selection.py:289: RuntimeWarning: invalid value encountered in true_divide\n",
            "  correlation_coefficient /= X_norms\n",
            "/usr/local/lib/python3.7/dist-packages/sklearn/feature_selection/_univariate_selection.py:289: RuntimeWarning: invalid value encountered in true_divide\n",
            "  correlation_coefficient /= X_norms\n",
            "/usr/local/lib/python3.7/dist-packages/sklearn/feature_selection/_univariate_selection.py:289: RuntimeWarning: invalid value encountered in true_divide\n",
            "  correlation_coefficient /= X_norms\n",
            "/usr/local/lib/python3.7/dist-packages/sklearn/feature_selection/_univariate_selection.py:289: RuntimeWarning: invalid value encountered in true_divide\n",
            "  correlation_coefficient /= X_norms\n",
            "/usr/local/lib/python3.7/dist-packages/sklearn/feature_selection/_univariate_selection.py:289: RuntimeWarning: invalid value encountered in true_divide\n",
            "  correlation_coefficient /= X_norms\n"
          ]
        },
        {
          "output_type": "execute_result",
          "data": {
            "text/plain": [
              "[<matplotlib.lines.Line2D at 0x7f4506ffdc50>]"
            ]
          },
          "metadata": {},
          "execution_count": 9
        },
        {
          "output_type": "display_data",
          "data": {
            "text/plain": [
              "<Figure size 720x360 with 1 Axes>"
            ],
            "image/png": "[encoded data removed]"
          },
          "metadata": {
            "needs_background": "light"
          }
        }
      ],
      "source": [
        "# ----- LogisticRegression и KBest\n",
        "# Так как признаков много, запустим в цикле выбор разного количества признаков\n",
        "# с помощью алгоритма KBest и проверим влияние количества признаков на целевую метрику\n",
        "\n",
        "nFeatures_f1 = pd.DataFrame(columns=['i','f1'])\n",
        "for i in range(2,data.shape[1]-1,70):\n",
        "    selector = SelectKBest(f_regression, k=i)\n",
        "    selector.fit(X_train, y_train)\n",
        "    KBest_columns = list(selector.get_feature_names_out())\n",
        "\n",
        "    lr = linear_model.LogisticRegression(max_iter=700, random_state=42)\n",
        "    lr.fit(X_train[KBest_columns], y_train)\n",
        "\n",
        "    # Сделаем предсказание на тестовой выборке\n",
        "    y_test_pred = lr.predict(X_test[KBest_columns])\n",
        "    nFeatures_f1.loc[i,'f1'] = metrics.f1_score(y_test, y_test_pred)\n",
        "    nFeatures_f1.loc[i,'i'] = i\n",
        "\n",
        "fig, ax = plt.subplots(figsize=(10, 5)) \n",
        "#Строим график зависимости f1 от количества признаков\n",
        "ax.plot(nFeatures_f1['i'], nFeatures_f1['f1'])\n"
      ]
    },
    {
      "cell_type": "markdown",
      "metadata": {
        "id": "_EFB-K72clU-"
      },
      "source": [
        "Выводы: F1-score показывает интересную зависимость от количества признаков - начиная со 100 признаков, выбранных KBest, колеблется вокруг 0.785, и только к 1600 признакам вырастает всего на 0.01. Можно предположить, что будет достаточно оставить 200-400 признаков, чтобы не перегружать модель."
      ]
    },
    {
      "cell_type": "code",
      "execution_count": null,
      "metadata": {
        "id": "aNbgSJ1EclVA"
      },
      "outputs": [],
      "source": [
        "# ----- LogisticRegression и GridSearchCV\n",
        "# # Оптимизация параметров Логистической регрессии методом GridSearchCV с кросс-валидацией на 5 фолдов \n",
        "\n",
        "param_grid = {'penalty': ['l1', 'l2'] , # тип регуляризации\n",
        "              'solver': ['saga','liblinear'], # алгоритм оптимизации\n",
        "              'max_iter': [200,400],\n",
        "              'class_weight': ['balanced'],\n",
        "              'C': [0.01, 0.1, 0.3]\n",
        "              }\n",
        "grid_search = GridSearchCV(\n",
        "    estimator=linear_model.LogisticRegression(random_state=42), \n",
        "    param_grid=param_grid, \n",
        "    cv=5, \n",
        "    n_jobs = -1\n",
        ")\n",
        "\n",
        "grid_search.fit(X_train, y_train)\n",
        "print(metrics.classification_report(y_test, y_test_pred))\n",
        "print(\"Наилучшие значения гиперпараметров: {}\".format(grid_search.best_params_))"
      ]
    },
    {
      "cell_type": "code",
      "execution_count": null,
      "metadata": {
        "id": "KP17qm8qclVB",
        "outputId": "3163d5c8-5eff-4a71-dccb-d497de5be656"
      },
      "outputs": [
        {
          "name": "stdout",
          "output_type": "stream",
          "text": [
            "Wall time: 1min 45s\n",
            "              precision    recall  f1-score   support\n",
            "\n",
            "           0       0.71      0.71      0.71       318\n",
            "           1       0.79      0.79      0.79       433\n",
            "\n",
            "    accuracy                           0.76       751\n",
            "   macro avg       0.75      0.75      0.75       751\n",
            "weighted avg       0.76      0.76      0.76       751\n",
            "\n",
            "Наилучшие значения гиперпараметров: {'solver': 'saga', 'penalty': 'l2', 'max_iter': 200, 'class_weight': 'balanced', 'C': 0.1}\n"
          ]
        },
        {
          "name": "stderr",
          "output_type": "stream",
          "text": [
            "C:\\Users\\1\\AppData\\Roaming\\Python\\Python39\\site-packages\\sklearn\\linear_model\\_sag.py:350: ConvergenceWarning: The max_iter was reached which means the coef_ did not converge\n",
            "  warnings.warn(\n"
          ]
        }
      ],
      "source": [
        "# ----- LogisticRegression и RandomizedSearchCV\n",
        "# Подбор гиперпараметров логистической регрессии алгоритмом RandomizedSearchCV\n",
        "\n",
        "param_distributions = { 'penalty': ['l1', 'l2'],\n",
        "                        'solver': ['saga', 'liblinear'],\n",
        "                        'max_iter': [200,400],\n",
        "                        'class_weight': ['balanced'],\n",
        "                        'C': [0.01, 0.1, 0.3]\n",
        "                        }\n",
        "            \n",
        "random_search = RandomizedSearchCV(\n",
        "    estimator=linear_model.LogisticRegression(random_state=42), \n",
        "    param_distributions=param_distributions, \n",
        "    cv=5, \n",
        "    n_iter = 10,\n",
        "    n_jobs = -1\n",
        ")  \n",
        "%time random_search.fit(X_train, y_train) \n",
        "y_test_pred = random_search.predict(X_test)\n",
        "print(metrics.classification_report(y_test,y_test_pred))\n",
        "print(\"Наилучшие значения гиперпараметров: {}\".format(random_search.best_params_))"
      ]
    },
    {
      "cell_type": "code",
      "execution_count": null,
      "metadata": {
        "id": "Ed3QL-G6clVC",
        "outputId": "7a526485-677a-4346-bdff-31c97f30295d"
      },
      "outputs": [
        {
          "name": "stderr",
          "output_type": "stream",
          "text": [
            "TPE is being used as the default algorithm.\n"
          ]
        },
        {
          "name": "stdout",
          "output_type": "stream",
          "text": [
            "100%|██████████| 3/3 [00:55<00:00, 18.41s/trial, best loss: -0.7711669655839183]\n",
            "Наилучшие значения гиперпараметров {'C': 0.2, 'max_iter': 400.0, 'penalty': 0, 'solver': 0}\n",
            "Метрики на обучающем наборе:\n",
            "              precision    recall  f1-score   support\n",
            "\n",
            "           0       0.79      0.78      0.79      1399\n",
            "           1       0.81      0.82      0.82      1601\n",
            "\n",
            "    accuracy                           0.80      3000\n",
            "   macro avg       0.80      0.80      0.80      3000\n",
            "weighted avg       0.80      0.80      0.80      3000\n",
            "\n",
            "Метрики на тестовом наборе:\n",
            "              precision    recall  f1-score   support\n",
            "\n",
            "           0       0.72      0.72      0.72       318\n",
            "           1       0.80      0.79      0.79       433\n",
            "\n",
            "    accuracy                           0.76       751\n",
            "   macro avg       0.76      0.76      0.76       751\n",
            "weighted avg       0.76      0.76      0.76       751\n",
            "\n"
          ]
        },
        {
          "name": "stderr",
          "output_type": "stream",
          "text": [
            "C:\\Users\\1\\AppData\\Roaming\\Python\\Python39\\site-packages\\sklearn\\linear_model\\_sag.py:350: ConvergenceWarning: The max_iter was reached which means the coef_ did not converge\n",
            "  warnings.warn(\n"
          ]
        }
      ],
      "source": [
        "# ----- LogisticRegression и Hyperopt\n",
        "# Подбор гиперпараметров логистической регрессии алгоритмом Hyperopt\n",
        "\n",
        "# зададим пространство поиска гиперпараметров\n",
        "penalty_list = ['l1', 'l2']\n",
        "solver_list = ['saga', 'liblinear']\n",
        "space={'penalty': hp.choice('penalty', penalty_list),\n",
        "        'solver': hp.choice('solver', solver_list),\n",
        "        'max_iter': hp.quniform('max_iter', 200,700,100),\n",
        "        'C': hp.quniform('C', 0.01, 0.52, 0.1)\n",
        "      }\n",
        "# Функция, которую будет минимизировать Hyperopt\n",
        "def hyperopt_rf(params, cv=3, X=X_train, y=y_train, random_state=42):\n",
        "    # функция получает комбинацию гиперпараметров в \"params\"\n",
        "    params = {'penalty': str(params['penalty']), \n",
        "              'solver': str(params['solver']), \n",
        "             'max_iter': int(params['max_iter']),\n",
        "             'C': float(params['C'])\n",
        "              }\n",
        "    # используем эту комбинацию для построения модели\n",
        "    model = linear_model.LogisticRegression(**params, class_weight = 'balanced', random_state=42)\n",
        "\n",
        "    # обучаем модель\n",
        "    #model.fit(X, y)\n",
        "    #score = metrics.f1_score(y, model.predict(X))\n",
        "    \n",
        "    # применим  cross validation с тем же количеством фолдов\n",
        "    score = cross_val_score(model, X, y, cv=cv, scoring=\"f1\", n_jobs=-1).mean()\n",
        "\n",
        "    # метрику необходимо минимизировать, поэтому ставим знак минус\n",
        "    return -score\n",
        "\n",
        "trials = Trials() # используется для логирования результатов\n",
        "best=fmin(hyperopt_rf, # наша функция \n",
        "          space=space, # пространство гиперпараметров\n",
        "          max_evals=3, # максимальное количество итераций\n",
        "          trials=trials # логирование результатов\n",
        "         )\n",
        "print(\"Наилучшие значения гиперпараметров {}\".format(best))\n",
        "\n",
        "# рассчитаем точность для тестовой выборки\n",
        "model = linear_model.LogisticRegression(\n",
        "    random_state=42, \n",
        "    penalty = penalty_list[best['penalty']], \n",
        "    solver = solver_list[best['solver']], \n",
        "    max_iter = int(best['max_iter']),\n",
        "    class_weight = 'balanced',\n",
        "    C = float(best['C'])\n",
        ")\n",
        "model.fit(X_train, y_train)\n",
        "y_train_pred = model.predict(X_train)\n",
        "\n",
        "print ('Метрики на обучающем наборе:')\n",
        "print(metrics.classification_report(y_train,y_train_pred))\n",
        "y_test_pred = model.predict(X_test)\n",
        "print ('Метрики на тестовом наборе:')\n",
        "print(metrics.classification_report(y_test,y_test_pred))"
      ]
    },
    {
      "cell_type": "code",
      "execution_count": null,
      "metadata": {
        "id": "JfOKvif2clVD",
        "outputId": "b6ef3a5c-128d-4a66-a3f7-01b3e5ed0442"
      },
      "outputs": [
        {
          "name": "stdout",
          "output_type": "stream",
          "text": [
            "Wall time: 13.7 s\n",
            "Наилучшие значения гиперпараметров: {'n_estimators': 130, 'min_samples_leaf': 10, 'max_depth': 10}\n",
            "Метрики на тестовом наборе:\n",
            "              precision    recall  f1-score   support\n",
            "\n",
            "           0       0.75      0.77      0.76       318\n",
            "           1       0.83      0.81      0.82       433\n",
            "\n",
            "    accuracy                           0.79       751\n",
            "   macro avg       0.79      0.79      0.79       751\n",
            "weighted avg       0.79      0.79      0.79       751\n",
            "\n"
          ]
        }
      ],
      "source": [
        "# -------- Случайный лес и RandomizedSearchCV\n",
        "# Подбор гиперпараметров Случайного леса алгоритмом RandomizedSearchCV\n",
        "\n",
        "\n",
        "param_distributions = {'n_estimators': list(range(100, 200, 30)),\n",
        "              'min_samples_leaf': [10,20,50],\n",
        "              'max_depth': [5,10,15,20,25]\n",
        "              }\n",
        "            \n",
        "random_search_forest = RandomizedSearchCV(\n",
        "    estimator=ensemble.RandomForestClassifier(random_state=42), \n",
        "    param_distributions=param_distributions, \n",
        "    cv=5,\n",
        "    n_iter = 10, \n",
        "    n_jobs = -1\n",
        ")\n",
        "\n",
        "%time random_search_forest.fit(X_train, y_train) \n",
        "print(\"Наилучшие значения гиперпараметров: {}\".format(random_search_forest.best_params_))\n",
        "\n",
        "y_test_pred = random_search_forest.predict(X_test)\n",
        "print('Метрики на тестовом наборе:')\n",
        "print(metrics.classification_report(y_test,y_test_pred))\n"
      ]
    },
    {
      "cell_type": "code",
      "execution_count": null,
      "metadata": {
        "id": "LU4ddll9clVE",
        "outputId": "1bef221c-ce66-4d24-ba57-a23b14e9ceb9"
      },
      "outputs": [
        {
          "name": "stderr",
          "output_type": "stream",
          "text": [
            "\u001b[32m[I 2022-09-05 14:01:28,762]\u001b[0m A new study created in memory with name: RandomForestClassifier\u001b[0m\n",
            "\u001b[32m[I 2022-09-05 14:01:30,701]\u001b[0m Trial 0 finished with value: 0.7869674185463659 and parameters: {'n_estimators': 220, 'max_depth': 10, 'min_samples_leaf': 50}. Best is trial 0 with value: 0.7869674185463659.\u001b[0m\n",
            "\u001b[32m[I 2022-09-05 14:01:31,939]\u001b[0m Trial 1 finished with value: 0.8176691729323308 and parameters: {'n_estimators': 130, 'max_depth': 10, 'min_samples_leaf': 30}. Best is trial 1 with value: 0.8176691729323308.\u001b[0m\n",
            "\u001b[32m[I 2022-09-05 14:01:33,285]\u001b[0m Trial 2 finished with value: 0.7847533632286995 and parameters: {'n_estimators': 190, 'max_depth': 5, 'min_samples_leaf': 10}. Best is trial 1 with value: 0.8176691729323308.\u001b[0m\n",
            "\u001b[32m[I 2022-09-05 14:01:35,025]\u001b[0m Trial 3 finished with value: 0.8917910447761194 and parameters: {'n_estimators': 130, 'max_depth': 15, 'min_samples_leaf': 10}. Best is trial 3 with value: 0.8917910447761194.\u001b[0m\n",
            "\u001b[32m[I 2022-09-05 14:01:36,419]\u001b[0m Trial 4 finished with value: 0.8038908064010041 and parameters: {'n_estimators': 160, 'max_depth': 10, 'min_samples_leaf': 40}. Best is trial 3 with value: 0.8917910447761194.\u001b[0m\n"
          ]
        },
        {
          "name": "stdout",
          "output_type": "stream",
          "text": [
            "Наилучшие значения гиперпараметров {'n_estimators': 130, 'max_depth': 15, 'min_samples_leaf': 10}\n",
            "Метрики на обучающем наборе:\n",
            "              precision    recall  f1-score   support\n",
            "\n",
            "           0       0.88      0.87      0.88      1399\n",
            "           1       0.89      0.90      0.89      1601\n",
            "\n",
            "    accuracy                           0.88      3000\n",
            "   macro avg       0.88      0.88      0.88      3000\n",
            "weighted avg       0.88      0.88      0.88      3000\n",
            "\n",
            "Метрики на тестовом наборе:\n",
            "              precision    recall  f1-score   support\n",
            "\n",
            "           0       0.75      0.77      0.76       318\n",
            "           1       0.83      0.81      0.82       433\n",
            "\n",
            "    accuracy                           0.80       751\n",
            "   macro avg       0.79      0.79      0.79       751\n",
            "weighted avg       0.80      0.80      0.80       751\n",
            "\n"
          ]
        }
      ],
      "source": [
        "# -------- Случайный лес и Optuna\n",
        "# Подбор гиперпараметров Случайного леса алгоритмом Optuna\n",
        "import optuna\n",
        "\n",
        "def optuna_rf(trial):\n",
        "  # задаем пространства поиска гиперпараметров\n",
        "  n_estimators = trial.suggest_int('n_estimators', 100, 220, 30)\n",
        "  max_depth = trial.suggest_int('max_depth', 5, 25, 5)\n",
        "  min_samples_leaf = trial.suggest_int('min_samples_leaf', 10, 50, 10)\n",
        "\n",
        "  # создаем модель\n",
        "  model = ensemble.RandomForestClassifier(n_estimators=n_estimators,\n",
        "                                          max_depth=max_depth,\n",
        "                                          min_samples_leaf=min_samples_leaf,\n",
        "                                          random_state=42)\n",
        "  # обучаем модель\n",
        "  model.fit(X_train, y_train)\n",
        "  score = metrics.f1_score(y_train, model.predict(X_train))\n",
        "\n",
        "  return score\n",
        "  \n",
        "# cоздаем объект исследования\n",
        "study = optuna.create_study(study_name=\"RandomForestClassifier\", direction=\"maximize\")\n",
        "# ищем лучшую комбинацию гиперпараметров n_trials раз\n",
        "study.optimize(optuna_rf, n_trials=5)\n",
        "\n",
        "print(\"Наилучшие значения гиперпараметров {}\".format(study.best_params))\n",
        "\n",
        "model = ensemble.RandomForestClassifier(**study.best_params,random_state=42)\n",
        "model.fit(X_train, y_train)\n",
        "y_train_pred = model.predict(X_train)\n",
        "print('Метрики на обучающем наборе:')\n",
        "print(metrics.classification_report(y_train,y_train_pred))\n",
        "\n",
        "y_test_pred = model.predict(X_test)\n",
        "print('Метрики на тестовом наборе:')\n",
        "print(metrics.classification_report(y_test,y_test_pred))\n"
      ]
    }
  ],
  "metadata": {
    "kernelspec": {
      "display_name": "Python 3.9.7 64-bit",
      "language": "python",
      "name": "python3"
    },
    "language_info": {
      "codemirror_mode": {
        "name": "ipython",
        "version": 3
      },
      "file_extension": ".py",
      "mimetype": "text/x-python",
      "name": "python",
      "nbconvert_exporter": "python",
      "pygments_lexer": "ipython3",
      "version": "3.9.7"
    },
    "orig_nbformat": 4,
    "vscode": {
      "interpreter": {
        "hash": "5454c2acc74d20840704f95be45d6c5f6cda957f73a363ffa059b8adbe38424c"
      }
    },
    "colab": {
      "provenance": [],
      "include_colab_link": true
    }
  },
  "nbformat": 4,
  "nbformat_minor": 0
}